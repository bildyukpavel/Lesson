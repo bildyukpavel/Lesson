{
 "cells": [
  {
   "cell_type": "code",
   "execution_count": 9,
   "id": "706b147a-7bc7-495c-9115-5d39b57af5d1",
   "metadata": {},
   "outputs": [
    {
     "data": {
      "text/plain": [
       "[5, 2, 3, 4, 1]"
      ]
     },
     "execution_count": 9,
     "metadata": {},
     "output_type": "execute_result"
    }
   ],
   "source": [
    "lst:list = [1,2,3,4,5]\n",
    "new_lst = lst[:]\n",
    "if True:\n",
    "    new_lst[0] = new_lst[-1]\n",
    "    new_lst[-1] = lst[0]\n",
    "new_lst"
   ]
  },
  {
   "cell_type": "code",
   "execution_count": null,
   "id": "3cd4f6e3-fb5e-46ec-bea1-25ba0eeb131d",
   "metadata": {},
   "outputs": [],
   "source": []
  }
 ],
 "metadata": {
  "kernelspec": {
   "display_name": "Python 3 (ipykernel)",
   "language": "python",
   "name": "python3"
  },
  "language_info": {
   "codemirror_mode": {
    "name": "ipython",
    "version": 3
   },
   "file_extension": ".py",
   "mimetype": "text/x-python",
   "name": "python",
   "nbconvert_exporter": "python",
   "pygments_lexer": "ipython3",
   "version": "3.13.5"
  }
 },
 "nbformat": 4,
 "nbformat_minor": 5
}
