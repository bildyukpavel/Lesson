{
 "cells": [
  {
   "cell_type": "code",
   "execution_count": 4,
   "id": "0e502647-974c-4186-80e6-715207bb0e40",
   "metadata": {},
   "outputs": [
    {
     "data": {
      "text/plain": [
       "[8, 7, 5, 3, 2, -1, -4, -12]"
      ]
     },
     "execution_count": 4,
     "metadata": {},
     "output_type": "execute_result"
    }
   ],
   "source": [
    "new_list:list = [5,3,2,8,-1,-4,-12,7]\n",
    "for s in range(len(new_list)) :\n",
    "    for i in range(1,len(new_list)):\n",
    "        if new_list[i] > new_list[i - 1]:\n",
    "            new_list[i],new_list[i - 1] = new_list[i - 1],new_list[i]\n",
    "new_list\n",
    "        "
   ]
  },
  {
   "cell_type": "code",
   "execution_count": null,
   "id": "0f3a2d8b-9f3f-4953-b855-5d1d9f769d32",
   "metadata": {},
   "outputs": [],
   "source": []
  }
 ],
 "metadata": {
  "kernelspec": {
   "display_name": "Python 3 (ipykernel)",
   "language": "python",
   "name": "python3"
  },
  "language_info": {
   "codemirror_mode": {
    "name": "ipython",
    "version": 3
   },
   "file_extension": ".py",
   "mimetype": "text/x-python",
   "name": "python",
   "nbconvert_exporter": "python",
   "pygments_lexer": "ipython3",
   "version": "3.13.5"
  }
 },
 "nbformat": 4,
 "nbformat_minor": 5
}
