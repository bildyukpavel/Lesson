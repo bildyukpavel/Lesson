{
 "cells": [
  {
   "cell_type": "code",
   "execution_count": null,
   "id": "4aedb1e2-ca5f-4915-a78b-e1b824178184",
   "metadata": {},
   "outputs": [],
   "source": [
    "#1"
   ]
  },
  {
   "cell_type": "code",
   "execution_count": 1,
   "id": "7e591c56-c634-4d88-8536-abd3c0c659a6",
   "metadata": {},
   "outputs": [
    {
     "name": "stdout",
     "output_type": "stream",
     "text": [
      "(5.3527190731827625-1.7617593827692475j)\n"
     ]
    }
   ],
   "source": [
    "import math\n",
    "def urvnenie(x):\n",
    "    y = (((math.cos(math.e) ** x) + math.log(1 + x)) ** 2  + ((math.e ** math.cos(x) + ((1 - math.cos(2 * x)) / 2) * math.pi) ** 0.5) + ((1 / x) ** 0.5) + (math.cos(x) ** 2)  ** math.sin(x))\n",
    "    return y\n",
    "print(urvnenie(1.79))\n"
   ]
  },
  {
   "cell_type": "code",
   "execution_count": null,
   "id": "ceaec309-fff7-4676-944b-11d59fa3511a",
   "metadata": {},
   "outputs": [],
   "source": [
    "#2"
   ]
  },
  {
   "cell_type": "code",
   "execution_count": 2,
   "id": "3f02fc9e-b581-4292-b387-2457106e801e",
   "metadata": {},
   "outputs": [
    {
     "name": "stdout",
     "output_type": "stream",
     "text": [
      "Есть контакт!\n"
     ]
    }
   ],
   "source": [
    "text:str = 'metro in belarus'\n",
    "sub_text :str = 'metrO'\n",
    "def search_substr(subst,st) -> str:\n",
    "    sb = subst.lower()\n",
    "    st1 = st.lower()\n",
    "    sub_lt:list = sb.rsplit()\n",
    "    if st1 in sub_lt:\n",
    "        print(\"Есть контакт!\")\n",
    "    else :\n",
    "        print(\"Мимо\")\n",
    "search_substr(text,sub_text)"
   ]
  },
  {
   "cell_type": "code",
   "execution_count": null,
   "id": "7927579b-1509-4dc7-94c0-119bdcdbc627",
   "metadata": {},
   "outputs": [],
   "source": [
    "#3"
   ]
  },
  {
   "cell_type": "code",
   "execution_count": null,
   "id": "7361834e-eb73-45cc-bdf4-c8895627acdc",
   "metadata": {},
   "outputs": [],
   "source": [
    "from collections import Counter\n",
    "text:str = 'derevo dom avtomobil jaguar eraaasdыdddваывsasdaaaaaqwerasdAF'\n",
    "def count_simv(cs) -> str:\n",
    "    cs = Counter(text).most_common(3)\n",
    "    return cs\n",
    "count_simv(text)"
   ]
  },
  {
   "cell_type": "code",
   "execution_count": null,
   "id": "9e090fbc-162e-454b-b48d-67b0a8f7bea6",
   "metadata": {},
   "outputs": [],
   "source": [
    "#4"
   ]
  },
  {
   "cell_type": "code",
   "execution_count": null,
   "id": "9b382603-cd9a-4ba6-8620-24d62bbdf113",
   "metadata": {},
   "outputs": [],
   "source": [
    "from collections import Counter\n",
    "number_str:str = '1,1,5,2,6,5,6,3,3,3,3,2,2,2,2'\n",
    "\n",
    "def count_it(sequence):\n",
    "    number_ct = Counter(sequence).most_common(4)\n",
    "    key_1 = int(number_ct[1][0])\n",
    "    key_2 = int(number_ct[2][0])\n",
    "    key_3 = int(number_ct[3][0])\n",
    "    zn_1 = int(number_ct[1][1])\n",
    "    zn_2 = int(number_ct[2][1])\n",
    "    zn_3 = int(number_ct[3][1])\n",
    "    sequence = {key_1: zn_1, key_2: zn_2, key_3: zn_3}\n",
    "    return sequence\n",
    "\n",
    "\n",
    "print(count_it(number_str))"
   ]
  }
 ],
 "metadata": {
  "kernelspec": {
   "display_name": "Python 3 (ipykernel)",
   "language": "python",
   "name": "python3"
  },
  "language_info": {
   "codemirror_mode": {
    "name": "ipython",
    "version": 3
   },
   "file_extension": ".py",
   "mimetype": "text/x-python",
   "name": "python",
   "nbconvert_exporter": "python",
   "pygments_lexer": "ipython3",
   "version": "3.13.5"
  }
 },
 "nbformat": 4,
 "nbformat_minor": 5
}
