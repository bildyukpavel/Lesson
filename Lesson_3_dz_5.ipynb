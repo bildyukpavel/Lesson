{
 "cells": [
  {
   "cell_type": "code",
   "execution_count": 3,
   "id": "60549cc5-8cf3-41b2-b734-0824bf3c2198",
   "metadata": {},
   "outputs": [
    {
     "name": "stdout",
     "output_type": "stream",
     "text": [
      "['дом_______', 'дерево____', 'автомобиль']\n"
     ]
    }
   ],
   "source": [
    "lst:list = ['дом','дерево','автомобиль']\n",
    "def al_eq(lst):\n",
    "    max_line = len(lst[-1])\n",
    "    for _ in lst:\n",
    "        if max_line >= len(lst[0]):\n",
    "            a = max_line - len(lst[0])\n",
    "            lst[0] = lst[0] + ('_' * a)\n",
    "            b = max_line - len(lst[1])\n",
    "            lst[1] = lst[1] + ('_' * b)\n",
    "    return lst\n",
    "print(al_eq(lst))\n"
   ]
  },
  {
   "cell_type": "code",
   "execution_count": null,
   "id": "502e5cbb-8220-4908-aff6-d298c8cf5ec6",
   "metadata": {},
   "outputs": [],
   "source": [
    "\n"
   ]
  }
 ],
 "metadata": {
  "kernelspec": {
   "display_name": "Python 3 (ipykernel)",
   "language": "python",
   "name": "python3"
  },
  "language_info": {
   "codemirror_mode": {
    "name": "ipython",
    "version": 3
   },
   "file_extension": ".py",
   "mimetype": "text/x-python",
   "name": "python",
   "nbconvert_exporter": "python",
   "pygments_lexer": "ipython3",
   "version": "3.13.5"
  }
 },
 "nbformat": 4,
 "nbformat_minor": 5
}
