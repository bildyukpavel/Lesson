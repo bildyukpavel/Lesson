{
 "cells": [
  {
   "cell_type": "code",
   "execution_count": 1,
   "id": "91b7c428-8fd2-460f-875e-4987c05c07ce",
   "metadata": {},
   "outputs": [],
   "source": [
    "#1"
   ]
  },
  {
   "cell_type": "code",
   "execution_count": 28,
   "id": "d65e59f2-a66e-4363-bdef-12127ce24f8f",
   "metadata": {},
   "outputs": [
    {
     "name": "stdout",
     "output_type": "stream",
     "text": [
      "['У', 'лукоморья', 'дуб', 'зеленый,', 'Златая', 'цепь', 'на', 'дубе', 'том,', 'И', 'днём', 'и', 'ночью', 'кот', 'учёный,', 'Всё', 'ходит', 'по', 'цепи', 'кругом']\n"
     ]
    }
   ],
   "source": [
    "def create_list() :\n",
    "    s: str = 'У лукоморья дуб зеленый, Златая цепь на дубе том, И днём и ночью кот учёный, Всё ходит по цепи кругом'\n",
    "    ns = s.split()\n",
    "    return ns\n",
    "print(create_list())"
   ]
  },
  {
   "cell_type": "code",
   "execution_count": 19,
   "id": "cf982447-ff8c-4588-b4d3-0870ddac0e71",
   "metadata": {},
   "outputs": [],
   "source": [
    "#2"
   ]
  },
  {
   "cell_type": "code",
   "execution_count": 27,
   "id": "e295a317-ee14-403a-a131-d6762faa5f14",
   "metadata": {},
   "outputs": [
    {
     "name": "stdout",
     "output_type": "stream",
     "text": [
      "Натан выпил за 3 часa/ов выпил 1.5 воды\n"
     ]
    }
   ],
   "source": [
    "def natan(n1:int = 3,n2:float = 0.5):\n",
    "    #n2:float = 0.5\n",
    "    result = n1 * n2\n",
    "    if result == float:\n",
    "        result = result - 0.5\n",
    "    else:\n",
    "        result = result\n",
    "    return print(f'Натан выпил за {n1} часa/ов выпил {result} воды')\n",
    "natan()"
   ]
  },
  {
   "cell_type": "code",
   "execution_count": 21,
   "id": "2b8fca77-2bed-4207-a228-6bfc7e47e5cd",
   "metadata": {},
   "outputs": [],
   "source": [
    "#3"
   ]
  },
  {
   "cell_type": "code",
   "execution_count": 26,
   "id": "91d9e4fc-83d6-4abe-bfb7-c6a9399584f5",
   "metadata": {},
   "outputs": [
    {
     "data": {
      "text/plain": [
       "[6, 5, 4, 3, 2, 1]"
      ]
     },
     "execution_count": 26,
     "metadata": {},
     "output_type": "execute_result"
    }
   ],
   "source": [
    "def revers(n:int):\n",
    "    l1 = []\n",
    "    for i in range(n):\n",
    "        l1.append(i + 1)\n",
    "        for _ in range(len(l1)):\n",
    "            for s in range(len(l1) - 1):\n",
    "                if l1[s] < l1[s + 1]:\n",
    "                    l1[s],l1[s + 1] = l1[s + 1],l1[s]\n",
    "    return l1\n",
    "\n",
    "            \n",
    "revers(6)"
   ]
  },
  {
   "cell_type": "code",
   "execution_count": null,
   "id": "ac5569be-da5f-4382-9903-190ed5b5e521",
   "metadata": {},
   "outputs": [],
   "source": [
    "#4"
   ]
  },
  {
   "cell_type": "code",
   "execution_count": 25,
   "id": "d16707e7-9230-48fb-be51-d8a566733745",
   "metadata": {},
   "outputs": [
    {
     "data": {
      "text/plain": [
       "' 111 г. - это 2 столетие'"
      ]
     },
     "execution_count": 25,
     "metadata": {},
     "output_type": "execute_result"
    }
   ],
   "source": [
    "def stoletie(s:int):\n",
    "    q = (s // 100 ) + 1\n",
    "    return (f' {s} г. - это {q} столетие')\n",
    "\n",
    "\n",
    "stoletie(111)"
   ]
  },
  {
   "cell_type": "code",
   "execution_count": 23,
   "id": "7d79b96d-9dbf-46bd-ac3a-04e3c7c738e8",
   "metadata": {},
   "outputs": [],
   "source": [
    "#5"
   ]
  },
  {
   "cell_type": "code",
   "execution_count": 29,
   "id": "bf2747e3-119f-4220-a4f7-71f2cbfe2b13",
   "metadata": {},
   "outputs": [
    {
     "data": {
      "text/plain": [
       "['3', '2', '1', '1', '3', '5']"
      ]
     },
     "execution_count": 29,
     "metadata": {},
     "output_type": "execute_result"
    }
   ],
   "source": [
    "def revers_number(s1):\n",
    "    s2 = str(s1)\n",
    "    lst_n = []\n",
    "    lst_n.append(s2)\n",
    "    lst_n.extend(s2)\n",
    "    lst_n.reverse()\n",
    "    return lst_n[:-1]\n",
    "    \n",
    "revers_number(531123)"
   ]
  },
  {
   "cell_type": "code",
   "execution_count": null,
   "id": "5b7cdaff-2ffc-4af2-82d9-76dfb79b6326",
   "metadata": {},
   "outputs": [],
   "source": []
  }
 ],
 "metadata": {
  "kernelspec": {
   "display_name": "Python 3 (ipykernel)",
   "language": "python",
   "name": "python3"
  },
  "language_info": {
   "codemirror_mode": {
    "name": "ipython",
    "version": 3
   },
   "file_extension": ".py",
   "mimetype": "text/x-python",
   "name": "python",
   "nbconvert_exporter": "python",
   "pygments_lexer": "ipython3",
   "version": "3.13.5"
  }
 },
 "nbformat": 4,
 "nbformat_minor": 5
}
