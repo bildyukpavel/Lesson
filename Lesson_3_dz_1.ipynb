{
 "cells": [
  {
   "cell_type": "code",
   "execution_count": 4,
   "id": "4a5267f8-cff4-4d66-88c7-a51a527c93b9",
   "metadata": {},
   "outputs": [
    {
     "name": "stdout",
     "output_type": "stream",
     "text": [
      "y1 первого уровнения 10.0\n",
      "y2 первого уровнения 2.0\n",
      "y1 второго уровнения -8.0\n",
      "y2 второго уровнения -9.0\n",
      "y1 третьего уровнения 11.0\n",
      "y2 третьего уровнения -4.0\n",
      "y1 четвертого уровнения -1.0\n",
      "y2 четвертого уровнения -8.0\n",
      "y1 пятого уровнения 9.0\n",
      "y2 пятого уровнения -7.0\n"
     ]
    }
   ],
   "source": [
    "a_1 = 1\n",
    "b_1 = -12\n",
    "c_1 = 20\n",
    "\n",
    "y_1_1 = (-b_1 + math.sqrt((b_1 ** 2) - (4 * a_1 * c_1) )) / 2 * a_1\n",
    "y_1_2 = (-b_1 - math.sqrt((b_1 ** 2) - (4 * a_1 * c_1) )) / 2 * a_1\n",
    "\n",
    "a_2 = 1\n",
    "b_2 = 17\n",
    "c_2 = 72\n",
    "\n",
    "y_2_1 = (-b_2 + math.sqrt((b_2 ** 2) - (4 * a_2 * c_2) )) / 2 * a_2\n",
    "y_2_2 = (-b_2 - math.sqrt((b_2 ** 2) - (4 * a_2 * c_2) )) / 2 * a_2\n",
    "\n",
    "a_3 = 1\n",
    "b_3 = -7\n",
    "c_3 = -44\n",
    "\n",
    "y_3_1 = (-b_3 + math.sqrt((b_3 ** 2) - (4 * a_3 * c_3) )) / 2 * a_3\n",
    "y_3_2 = (-b_3 - math.sqrt((b_3 ** 2) - (4 * a_3 * c_3) )) / 2 * a_3\n",
    "\n",
    "a_4 = 1\n",
    "b_4 = 9\n",
    "c_4 = 8\n",
    "\n",
    "y_4_1 = (-b_4 + math.sqrt((b_4 ** 2) - (4 * a_4 * c_4) )) / 2 * a_4\n",
    "y_4_2 = (-b_4 - math.sqrt((b_4 ** 2) - (4 * a_4 * c_4) )) / 2 * a_4\n",
    "\n",
    "a_5 = 1\n",
    "b_5 = -2\n",
    "c_5 = -63\n",
    "\n",
    "y_5_1 = (-b_5 + math.sqrt((b_5 ** 2) - (4 * a_5 * c_5) )) / 2 * a_5\n",
    "y_5_2 = (-b_5 - math.sqrt((b_5 ** 2) - (4 * a_5 * c_5) )) / 2 * a_5\n",
    "\n",
    "\n",
    "print(f'y1 первого уровнения {y_1_1}')\n",
    "print(f'y2 первого уровнения {y_1_2}')\n",
    "print(f'y1 второго уровнения {y_2_1}')\n",
    "print(f'y2 второго уровнения {y_2_2}')\n",
    "print(f'y1 третьего уровнения {y_3_1}')\n",
    "print(f'y2 третьего уровнения {y_3_2}')\n",
    "print(f'y1 четвертого уровнения {y_4_1}')\n",
    "print(f'y2 четвертого уровнения {y_4_2}')\n",
    "print(f'y1 пятого уровнения {y_5_1}')\n",
    "print(f'y2 пятого уровнения {y_5_2}')"
   ]
  },
  {
   "cell_type": "code",
   "execution_count": null,
   "id": "52e60ce3-4709-4ab1-bc2e-88e11ea8f6db",
   "metadata": {},
   "outputs": [],
   "source": []
  }
 ],
 "metadata": {
  "kernelspec": {
   "display_name": "Python 3 (ipykernel)",
   "language": "python",
   "name": "python3"
  },
  "language_info": {
   "codemirror_mode": {
    "name": "ipython",
    "version": 3
   },
   "file_extension": ".py",
   "mimetype": "text/x-python",
   "name": "python",
   "nbconvert_exporter": "python",
   "pygments_lexer": "ipython3",
   "version": "3.13.5"
  }
 },
 "nbformat": 4,
 "nbformat_minor": 5
}
