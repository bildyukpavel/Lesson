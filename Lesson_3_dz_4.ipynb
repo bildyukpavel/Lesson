{
 "cells": [
  {
   "cell_type": "code",
   "execution_count": 2,
   "id": "1fb205ed-339b-4221-af38-bd376fe57d9c",
   "metadata": {},
   "outputs": [
    {
     "name": "stdout",
     "output_type": "stream",
     "text": [
      "1.5\n"
     ]
    }
   ],
   "source": [
    "lst:list = [1,3,5,12,2,6,8,2,]\n",
    "lst.sort()\n",
    "number = lst[-1]\n",
    "print(number / len(lst))"
   ]
  },
  {
   "cell_type": "code",
   "execution_count": null,
   "id": "fbf7c5c8-8481-4532-a003-94d40bacc56f",
   "metadata": {},
   "outputs": [],
   "source": []
  }
 ],
 "metadata": {
  "kernelspec": {
   "display_name": "Python 3 (ipykernel)",
   "language": "python",
   "name": "python3"
  },
  "language_info": {
   "codemirror_mode": {
    "name": "ipython",
    "version": 3
   },
   "file_extension": ".py",
   "mimetype": "text/x-python",
   "name": "python",
   "nbconvert_exporter": "python",
   "pygments_lexer": "ipython3",
   "version": "3.13.5"
  }
 },
 "nbformat": 4,
 "nbformat_minor": 5
}
